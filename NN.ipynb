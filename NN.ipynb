{
 "cells": [
  {
   "cell_type": "code",
   "execution_count": 1,
   "metadata": {},
   "outputs": [],
   "source": [
    "import math\n",
    "import numpy as np\n",
    "import pandas as pd\n",
    "import matplotlib.pyplot as plt\n",
    "%matplotlib inline"
   ]
  },
  {
   "cell_type": "code",
   "execution_count": 2,
   "metadata": {},
   "outputs": [],
   "source": [
    "def f(x):\n",
    "    return 3*x**2 - 4*x + 5"
   ]
  },
  {
   "cell_type": "code",
   "execution_count": 3,
   "metadata": {},
   "outputs": [
    {
     "data": {
      "text/plain": [
       "20"
      ]
     },
     "execution_count": 3,
     "metadata": {},
     "output_type": "execute_result"
    }
   ],
   "source": [
    "f(3)"
   ]
  },
  {
   "cell_type": "code",
   "execution_count": 4,
   "metadata": {},
   "outputs": [
    {
     "name": "stdout",
     "output_type": "stream",
     "text": [
      "[-5.   -4.75 -4.5  -4.25 -4.   -3.75 -3.5  -3.25 -3.   -2.75 -2.5  -2.25\n",
      " -2.   -1.75 -1.5  -1.25 -1.   -0.75 -0.5  -0.25  0.    0.25  0.5   0.75\n",
      "  1.    1.25  1.5   1.75  2.    2.25  2.5   2.75  3.    3.25  3.5   3.75\n",
      "  4.    4.25  4.5   4.75]\n",
      "[100.      91.6875  83.75    76.1875  69.      62.1875  55.75    49.6875\n",
      "  44.      38.6875  33.75    29.1875  25.      21.1875  17.75    14.6875\n",
      "  12.       9.6875   7.75     6.1875   5.       4.1875   3.75     3.6875\n",
      "   4.       4.6875   5.75     7.1875   9.      11.1875  13.75    16.6875\n",
      "  20.      23.6875  27.75    32.1875  37.      42.1875  47.75    53.6875]\n"
     ]
    }
   ],
   "source": [
    "xs = np.arange(-5,5, 0.25)\n",
    "ys = f(xs)\n",
    "print(xs)\n",
    "print(ys)"
   ]
  },
  {
   "cell_type": "code",
   "execution_count": 5,
   "metadata": {},
   "outputs": [
    {
     "data": {
      "text/plain": [
       "[<matplotlib.lines.Line2D at 0x10ca67010>]"
      ]
     },
     "execution_count": 5,
     "metadata": {},
     "output_type": "execute_result"
    },
    {
     "data": {
      "image/png": "[encoded data removed]",
      "text/plain": [
       "<Figure size 640x480 with 1 Axes>"
      ]
     },
     "metadata": {},
     "output_type": "display_data"
    }
   ],
   "source": [
    "plt.plot(xs,ys)"
   ]
  },
  {
   "cell_type": "markdown",
   "metadata": {},
   "source": [
    "if we nudge the value of x by a very small amount"
   ]
  },
  {
   "cell_type": "code",
   "execution_count": 6,
   "metadata": {},
   "outputs": [
    {
     "data": {
      "text/plain": [
       "20.0001400003"
      ]
     },
     "execution_count": 6,
     "metadata": {},
     "output_type": "execute_result"
    }
   ],
   "source": [
    "h = 0.00001\n",
    "x =3\n",
    "f(x+h)"
   ]
  },
  {
   "cell_type": "markdown",
   "metadata": {},
   "source": [
    "the difference between actual x and x+h (after nudging)"
   ]
  },
  {
   "cell_type": "code",
   "execution_count": 7,
   "metadata": {},
   "outputs": [
    {
     "data": {
      "text/plain": [
       "0.0001400003000000538"
      ]
     },
     "execution_count": 7,
     "metadata": {},
     "output_type": "execute_result"
    }
   ],
   "source": [
    "f(x+h)-f(x)"
   ]
  },
  {
   "cell_type": "markdown",
   "metadata": {},
   "source": [
    "normalizing by h to find the slope at that point"
   ]
  },
  {
   "cell_type": "code",
   "execution_count": 8,
   "metadata": {},
   "outputs": [
    {
     "data": {
      "text/plain": [
       "14.00003000000538"
      ]
     },
     "execution_count": 8,
     "metadata": {},
     "output_type": "execute_result"
    }
   ],
   "source": [
    "(f(x+h)-f(x))/h"
   ]
  },
  {
   "cell_type": "code",
   "execution_count": 9,
   "metadata": {},
   "outputs": [
    {
     "data": {
      "text/plain": [
       "4.0"
      ]
     },
     "execution_count": 9,
     "metadata": {},
     "output_type": "execute_result"
    }
   ],
   "source": [
    "#little complex example with 3 input variables\n",
    "a = -2.0\n",
    "b = 3.0\n",
    "c = 10.0\n",
    "\n",
    "d = a*b + c\n",
    "d"
   ]
  },
  {
   "cell_type": "markdown",
   "metadata": {},
   "source": [
    "when a is bumped by a small amount the resulting d is increased 3 times, hence the slope is 3 \\\n",
    "This is also the rate at which d will increase if we nudge 'a'"
   ]
  },
  {
   "cell_type": "code",
   "execution_count": 10,
   "metadata": {},
   "outputs": [
    {
     "name": "stdout",
     "output_type": "stream",
     "text": [
      "d1  4.0\n",
      "d2  4.0003\n",
      "slope  3.00000000000189\n"
     ]
    }
   ],
   "source": [
    "h = 0.0001\n",
    "\n",
    "#inputs\n",
    "a = -2.0\n",
    "b = 3.0\n",
    "c = 10.0\n",
    "\n",
    "d1 = a*b + c\n",
    "a += h\n",
    "d2 = a*b + c\n",
    "\n",
    "print('d1 ',d1)\n",
    "print('d2 ',d2)\n",
    "print('slope ', (d2-d1)/h)"
   ]
  },
  {
   "cell_type": "code",
   "execution_count": 11,
   "metadata": {},
   "outputs": [],
   "source": [
    "class Value:\n",
    "    def __init__(self,data,_children=(), _op='', label=''):\n",
    "        self.data = data\n",
    "        self._prev = set(_children)\n",
    "        self.grad = 0.0\n",
    "        self._op = _op\n",
    "        self.label = label\n",
    "        \n",
    "    def __repr__(self):\n",
    "        return f'Value(data = {self.data})'\n",
    "    \n",
    "    def __add__(self,other):\n",
    "        out = Value(self.data + other.data, (self,other),'+')\n",
    "        return out\n",
    "        \n",
    "    def __mul__(self,other):\n",
    "        out = Value(self.data * other.data, (self,other),'*')\n",
    "        return out\n",
    "        \n",
    "a = Value(-2.0, label='a')\n",
    "b = Value(3.0, label='b')\n",
    "c = Value(10.0, label='c')\n",
    "e = a*b; e.label='e'\n",
    "d = e+c; d.label='d'\n",
    "f= Value(-2.0, label='f')\n",
    "L = d*f; L.label='L'\n",
    " \n",
    "        "
   ]
  },
  {
   "cell_type": "code",
   "execution_count": 12,
   "metadata": {},
   "outputs": [
    {
     "data": {
      "text/plain": [
       "{Value(data = -6.0), Value(data = 10.0)}"
      ]
     },
     "execution_count": 12,
     "metadata": {},
     "output_type": "execute_result"
    }
   ],
   "source": [
    "d._prev"
   ]
  },
  {
   "cell_type": "code",
   "execution_count": 13,
   "metadata": {},
   "outputs": [
    {
     "data": {
      "text/plain": [
       "'+'"
      ]
     },
     "execution_count": 13,
     "metadata": {},
     "output_type": "execute_result"
    }
   ],
   "source": [
    "d._op"
   ]
  },
  {
   "cell_type": "code",
   "execution_count": 14,
   "metadata": {},
   "outputs": [],
   "source": [
    "from graphviz import Digraph\n",
    "\n",
    "def trace(root):\n",
    "  # builds a set of all nodes and edges in a graph\n",
    "  nodes, edges = set(), set()\n",
    "  def build(v):\n",
    "    if v not in nodes:\n",
    "      nodes.add(v)\n",
    "      for child in v._prev:\n",
    "        edges.add((child, v))\n",
    "        build(child)\n",
    "  build(root)\n",
    "  return nodes, edges\n",
    "\n",
    "def draw_dot(root):\n",
    "  dot = Digraph(format='svg', graph_attr={'rankdir': 'LR'}) # LR = left to right\n",
    "  \n",
    "  nodes, edges = trace(root)\n",
    "  for n in nodes:\n",
    "    uid = str(id(n))\n",
    "    # for any value in the graph, create a rectangular ('record') node for it\n",
    "    dot.node(name = uid, label = \"{ %s | data %.4f | grad %.4f }\" % (n.label, n.data, n.grad), shape='record')\n",
    "    if n._op:\n",
    "      # if this value is a result of some operation, create an op node for it\n",
    "      dot.node(name = uid + n._op, label = n._op)\n",
    "      # and connect this node to it\n",
    "      dot.edge(uid + n._op, uid)\n",
    "\n",
    "  for n1, n2 in edges:\n",
    "    # connect n1 to the op node of n2\n",
    "    dot.edge(str(id(n1)), str(id(n2)) + n2._op)\n",
    "\n",
    "  return dot"
   ]
  },
  {
   "cell_type": "code",
   "execution_count": 15,
   "metadata": {},
   "outputs": [
    {
     "data": {
      "image/svg+xml": [
       "<?xml version=\"1.0\" encoding=\"UTF-8\" standalone=\"no\"?>\n",
       "<!DOCTYPE svg PUBLIC \"-//W3C//DTD SVG 1.1//EN\"\n",
       " \"http://www.w3.org/Graphics/SVG/1.1/DTD/svg11.dtd\">\n",
       "<!-- Generated by graphviz version 12.2.1 (20241206.2353)\n",
       " -->\n",
       "<!-- Pages: 1 -->\n",
       "<svg width=\"1139pt\" height=\"156pt\"\n",
       " viewBox=\"0.00 0.00 1139.00 156.00\" xmlns=\"http://www.w3.org/2000/svg\" xmlns:xlink=\"http://www.w3.org/1999/xlink\">\n",
       "<g id=\"graph0\" class=\"graph\" transform=\"scale(1 1) rotate(0) translate(4 152)\">\n",
       "<polygon fill=\"white\" stroke=\"none\" points=\"-4,4 -4,-152 1135,-152 1135,4 -4,4\"/>\n",
       "<!-- 4507488784 -->\n",
       "<g id=\"node1\" class=\"node\">\n",
       "<title>4507488784</title>\n",
       "<polygon fill=\"none\" stroke=\"black\" points=\"0,-111.5 0,-147.5 187.5,-147.5 187.5,-111.5 0,-111.5\"/>\n",
       "<text text-anchor=\"middle\" x=\"11\" y=\"-124.7\" font-family=\"Times,serif\" font-size=\"14.00\">a</text>\n",
       "<polyline fill=\"none\" stroke=\"black\" points=\"22,-112 22,-147.5\"/>\n",
       "<text text-anchor=\"middle\" x=\"64.12\" y=\"-124.7\" font-family=\"Times,serif\" font-size=\"14.00\">data &#45;2.0000</text>\n",
       "<polyline fill=\"none\" stroke=\"black\" points=\"106.25,-112 106.25,-147.5\"/>\n",
       "<text text-anchor=\"middle\" x=\"146.88\" y=\"-124.7\" font-family=\"Times,serif\" font-size=\"14.00\">grad 0.0000</text>\n",
       "</g>\n",
       "<!-- 4494478672* -->\n",
       "<g id=\"node10\" class=\"node\">\n",
       "<title>4494478672*</title>\n",
       "<ellipse fill=\"none\" stroke=\"black\" cx=\"250.5\" cy=\"-101.5\" rx=\"27\" ry=\"18\"/>\n",
       "<text text-anchor=\"middle\" x=\"250.5\" y=\"-96.45\" font-family=\"Times,serif\" font-size=\"14.00\">*</text>\n",
       "</g>\n",
       "<!-- 4507488784&#45;&gt;4494478672* -->\n",
       "<g id=\"edge6\" class=\"edge\">\n",
       "<title>4507488784&#45;&gt;4494478672*</title>\n",
       "<path fill=\"none\" stroke=\"black\" d=\"M187.89,-112.65C196.65,-111.06 205.13,-109.53 212.84,-108.13\"/>\n",
       "<polygon fill=\"black\" stroke=\"black\" points=\"213.21,-111.62 222.43,-106.4 211.96,-104.73 213.21,-111.62\"/>\n",
       "</g>\n",
       "<!-- 4507762256 -->\n",
       "<g id=\"node2\" class=\"node\">\n",
       "<title>4507762256</title>\n",
       "<polygon fill=\"none\" stroke=\"black\" points=\"313.5,-28.5 313.5,-64.5 503.25,-64.5 503.25,-28.5 313.5,-28.5\"/>\n",
       "<text text-anchor=\"middle\" x=\"324.5\" y=\"-41.7\" font-family=\"Times,serif\" font-size=\"14.00\">c</text>\n",
       "<polyline fill=\"none\" stroke=\"black\" points=\"335.5,-29 335.5,-64.5\"/>\n",
       "<text text-anchor=\"middle\" x=\"378.75\" y=\"-41.7\" font-family=\"Times,serif\" font-size=\"14.00\">data 10.0000</text>\n",
       "<polyline fill=\"none\" stroke=\"black\" points=\"422,-29 422,-64.5\"/>\n",
       "<text text-anchor=\"middle\" x=\"462.62\" y=\"-41.7\" font-family=\"Times,serif\" font-size=\"14.00\">grad 0.0000</text>\n",
       "</g>\n",
       "<!-- 4507803792+ -->\n",
       "<g id=\"node4\" class=\"node\">\n",
       "<title>4507803792+</title>\n",
       "<ellipse fill=\"none\" stroke=\"black\" cx=\"566.25\" cy=\"-73.5\" rx=\"27\" ry=\"18\"/>\n",
       "<text text-anchor=\"middle\" x=\"566.25\" y=\"-68.45\" font-family=\"Times,serif\" font-size=\"14.00\">+</text>\n",
       "</g>\n",
       "<!-- 4507762256&#45;&gt;4507803792+ -->\n",
       "<g id=\"edge8\" class=\"edge\">\n",
       "<title>4507762256&#45;&gt;4507803792+</title>\n",
       "<path fill=\"none\" stroke=\"black\" d=\"M503.64,-62.83C512.41,-64.35 520.9,-65.82 528.62,-67.15\"/>\n",
       "<polygon fill=\"black\" stroke=\"black\" points=\"527.75,-70.56 538.2,-68.81 528.94,-63.66 527.75,-70.56\"/>\n",
       "</g>\n",
       "<!-- 4507803792 -->\n",
       "<g id=\"node3\" class=\"node\">\n",
       "<title>4507803792</title>\n",
       "<polygon fill=\"none\" stroke=\"black\" points=\"630.38,-55.5 630.38,-91.5 814.12,-91.5 814.12,-55.5 630.38,-55.5\"/>\n",
       "<text text-anchor=\"middle\" x=\"641.75\" y=\"-68.7\" font-family=\"Times,serif\" font-size=\"14.00\">d</text>\n",
       "<polyline fill=\"none\" stroke=\"black\" points=\"653.12,-56 653.12,-91.5\"/>\n",
       "<text text-anchor=\"middle\" x=\"693\" y=\"-68.7\" font-family=\"Times,serif\" font-size=\"14.00\">data 4.0000</text>\n",
       "<polyline fill=\"none\" stroke=\"black\" points=\"732.88,-56 732.88,-91.5\"/>\n",
       "<text text-anchor=\"middle\" x=\"773.5\" y=\"-68.7\" font-family=\"Times,serif\" font-size=\"14.00\">grad 0.0000</text>\n",
       "</g>\n",
       "<!-- 4502387408* -->\n",
       "<g id=\"node7\" class=\"node\">\n",
       "<title>4502387408*</title>\n",
       "<ellipse fill=\"none\" stroke=\"black\" cx=\"878.25\" cy=\"-45.5\" rx=\"27\" ry=\"18\"/>\n",
       "<text text-anchor=\"middle\" x=\"878.25\" y=\"-40.45\" font-family=\"Times,serif\" font-size=\"14.00\">*</text>\n",
       "</g>\n",
       "<!-- 4507803792&#45;&gt;4502387408* -->\n",
       "<g id=\"edge7\" class=\"edge\">\n",
       "<title>4507803792&#45;&gt;4502387408*</title>\n",
       "<path fill=\"none\" stroke=\"black\" d=\"M814.61,-56.89C823.75,-55.23 832.61,-53.62 840.65,-52.15\"/>\n",
       "<polygon fill=\"black\" stroke=\"black\" points=\"841.08,-55.63 850.29,-50.4 839.82,-48.75 841.08,-55.63\"/>\n",
       "</g>\n",
       "<!-- 4507803792+&#45;&gt;4507803792 -->\n",
       "<g id=\"edge1\" class=\"edge\">\n",
       "<title>4507803792+&#45;&gt;4507803792</title>\n",
       "<path fill=\"none\" stroke=\"black\" d=\"M593.72,-73.5C601.12,-73.5 609.63,-73.5 618.68,-73.5\"/>\n",
       "<polygon fill=\"black\" stroke=\"black\" points=\"618.42,-77 628.42,-73.5 618.42,-70 618.42,-77\"/>\n",
       "</g>\n",
       "<!-- 4507542672 -->\n",
       "<g id=\"node5\" class=\"node\">\n",
       "<title>4507542672</title>\n",
       "<polygon fill=\"none\" stroke=\"black\" points=\"1.88,-56.5 1.88,-92.5 185.62,-92.5 185.62,-56.5 1.88,-56.5\"/>\n",
       "<text text-anchor=\"middle\" x=\"13.25\" y=\"-69.7\" font-family=\"Times,serif\" font-size=\"14.00\">b</text>\n",
       "<polyline fill=\"none\" stroke=\"black\" points=\"24.62,-57 24.62,-92.5\"/>\n",
       "<text text-anchor=\"middle\" x=\"64.5\" y=\"-69.7\" font-family=\"Times,serif\" font-size=\"14.00\">data 3.0000</text>\n",
       "<polyline fill=\"none\" stroke=\"black\" points=\"104.38,-57 104.38,-92.5\"/>\n",
       "<text text-anchor=\"middle\" x=\"145\" y=\"-69.7\" font-family=\"Times,serif\" font-size=\"14.00\">grad 0.0000</text>\n",
       "</g>\n",
       "<!-- 4507542672&#45;&gt;4494478672* -->\n",
       "<g id=\"edge4\" class=\"edge\">\n",
       "<title>4507542672&#45;&gt;4494478672*</title>\n",
       "<path fill=\"none\" stroke=\"black\" d=\"M186.11,-90.44C195.43,-92.07 204.47,-93.64 212.67,-95.07\"/>\n",
       "<polygon fill=\"black\" stroke=\"black\" points=\"212.06,-98.52 222.51,-96.79 213.26,-91.62 212.06,-98.52\"/>\n",
       "</g>\n",
       "<!-- 4502387408 -->\n",
       "<g id=\"node6\" class=\"node\">\n",
       "<title>4502387408</title>\n",
       "<polygon fill=\"none\" stroke=\"black\" points=\"941.25,-27.5 941.25,-63.5 1131,-63.5 1131,-27.5 941.25,-27.5\"/>\n",
       "<text text-anchor=\"middle\" x=\"953.38\" y=\"-40.7\" font-family=\"Times,serif\" font-size=\"14.00\">L</text>\n",
       "<polyline fill=\"none\" stroke=\"black\" points=\"965.5,-28 965.5,-63.5\"/>\n",
       "<text text-anchor=\"middle\" x=\"1007.62\" y=\"-40.7\" font-family=\"Times,serif\" font-size=\"14.00\">data &#45;8.0000</text>\n",
       "<polyline fill=\"none\" stroke=\"black\" points=\"1049.75,-28 1049.75,-63.5\"/>\n",
       "<text text-anchor=\"middle\" x=\"1090.38\" y=\"-40.7\" font-family=\"Times,serif\" font-size=\"14.00\">grad 0.0000</text>\n",
       "</g>\n",
       "<!-- 4502387408*&#45;&gt;4502387408 -->\n",
       "<g id=\"edge2\" class=\"edge\">\n",
       "<title>4502387408*&#45;&gt;4502387408</title>\n",
       "<path fill=\"none\" stroke=\"black\" d=\"M905.69,-45.5C912.84,-45.5 921.03,-45.5 929.74,-45.5\"/>\n",
       "<polygon fill=\"black\" stroke=\"black\" points=\"929.51,-49 939.51,-45.5 929.51,-42 929.51,-49\"/>\n",
       "</g>\n",
       "<!-- 4507809040 -->\n",
       "<g id=\"node8\" class=\"node\">\n",
       "<title>4507809040</title>\n",
       "<polygon fill=\"none\" stroke=\"black\" points=\"629.25,-0.5 629.25,-36.5 815.25,-36.5 815.25,-0.5 629.25,-0.5\"/>\n",
       "<text text-anchor=\"middle\" x=\"639.5\" y=\"-13.7\" font-family=\"Times,serif\" font-size=\"14.00\">f</text>\n",
       "<polyline fill=\"none\" stroke=\"black\" points=\"649.75,-1 649.75,-36.5\"/>\n",
       "<text text-anchor=\"middle\" x=\"691.88\" y=\"-13.7\" font-family=\"Times,serif\" font-size=\"14.00\">data &#45;2.0000</text>\n",
       "<polyline fill=\"none\" stroke=\"black\" points=\"734,-1 734,-36.5\"/>\n",
       "<text text-anchor=\"middle\" x=\"774.62\" y=\"-13.7\" font-family=\"Times,serif\" font-size=\"14.00\">grad 0.0000</text>\n",
       "</g>\n",
       "<!-- 4507809040&#45;&gt;4502387408* -->\n",
       "<g id=\"edge5\" class=\"edge\">\n",
       "<title>4507809040&#45;&gt;4502387408*</title>\n",
       "<path fill=\"none\" stroke=\"black\" d=\"M815.5,-34.67C824.26,-36.21 832.75,-37.7 840.49,-39.05\"/>\n",
       "<polygon fill=\"black\" stroke=\"black\" points=\"839.64,-42.46 850.09,-40.74 840.85,-35.56 839.64,-42.46\"/>\n",
       "</g>\n",
       "<!-- 4494478672 -->\n",
       "<g id=\"node9\" class=\"node\">\n",
       "<title>4494478672</title>\n",
       "<polygon fill=\"none\" stroke=\"black\" points=\"314.62,-83.5 314.62,-119.5 502.12,-119.5 502.12,-83.5 314.62,-83.5\"/>\n",
       "<text text-anchor=\"middle\" x=\"325.62\" y=\"-96.7\" font-family=\"Times,serif\" font-size=\"14.00\">e</text>\n",
       "<polyline fill=\"none\" stroke=\"black\" points=\"336.62,-84 336.62,-119.5\"/>\n",
       "<text text-anchor=\"middle\" x=\"378.75\" y=\"-96.7\" font-family=\"Times,serif\" font-size=\"14.00\">data &#45;6.0000</text>\n",
       "<polyline fill=\"none\" stroke=\"black\" points=\"420.88,-84 420.88,-119.5\"/>\n",
       "<text text-anchor=\"middle\" x=\"461.5\" y=\"-96.7\" font-family=\"Times,serif\" font-size=\"14.00\">grad 0.0000</text>\n",
       "</g>\n",
       "<!-- 4494478672&#45;&gt;4507803792+ -->\n",
       "<g id=\"edge9\" class=\"edge\">\n",
       "<title>4494478672&#45;&gt;4507803792+</title>\n",
       "<path fill=\"none\" stroke=\"black\" d=\"M502.3,-84.81C511.5,-83.16 520.41,-81.56 528.49,-80.1\"/>\n",
       "<polygon fill=\"black\" stroke=\"black\" points=\"528.96,-83.58 538.18,-78.36 527.72,-76.69 528.96,-83.58\"/>\n",
       "</g>\n",
       "<!-- 4494478672*&#45;&gt;4494478672 -->\n",
       "<g id=\"edge3\" class=\"edge\">\n",
       "<title>4494478672*&#45;&gt;4494478672</title>\n",
       "<path fill=\"none\" stroke=\"black\" d=\"M277.94,-101.5C285.35,-101.5 293.89,-101.5 302.96,-101.5\"/>\n",
       "<polygon fill=\"black\" stroke=\"black\" points=\"302.76,-105 312.76,-101.5 302.76,-98 302.76,-105\"/>\n",
       "</g>\n",
       "</g>\n",
       "</svg>\n"
      ],
      "text/plain": [
       "<graphviz.graphs.Digraph at 0x103e80110>"
      ]
     },
     "execution_count": 15,
     "metadata": {},
     "output_type": "execute_result"
    }
   ],
   "source": [
    "draw_dot(L)"
   ]
  },
  {
   "cell_type": "markdown",
   "metadata": {},
   "source": [
    "Here the value of a is slightly bumped by h to find the derivative of L with respect to 'a'\\\n",
    "if we do the same with L ie.L+h the derivative would be 1 , indicating base case"
   ]
  },
  {
   "cell_type": "code",
   "execution_count": 24,
   "metadata": {},
   "outputs": [
    {
     "name": "stdout",
     "output_type": "stream",
     "text": [
      "6.000000000000227\n"
     ]
    }
   ],
   "source": [
    "def test():\n",
    "    \n",
    "    h = 0.001\n",
    "    \n",
    "    a = Value(2.0, label='a')\n",
    "    b = Value(-3.0, label='b')\n",
    "    c = Value(10.0, label='c')\n",
    "    e = a*b; e.label='e'\n",
    "    d = e+c; d.label='d'\n",
    "    f= Value(-2.0, label='f')\n",
    "    L = d*f; L.label='L'\n",
    "    L1 = L.data\n",
    "    \n",
    "    a = Value(2.0 + h , label='a')\n",
    "    b = Value(-3.0, label='b')\n",
    "    c = Value(10.0, label='c')\n",
    "    e = a*b; e.label='e'\n",
    "    d = e+c; d.label='d'\n",
    "    f= Value(-2.0, label='f')\n",
    "    L = d*f; L.label='L'\n",
    "    L2 = L.data\n",
    "    \n",
    "    print((L2-L1)/h)\n",
    "    \n",
    "test()"
   ]
  },
  {
   "cell_type": "code",
   "execution_count": 25,
   "metadata": {},
   "outputs": [],
   "source": [
    "L.grad = 1"
   ]
  },
  {
   "cell_type": "code",
   "execution_count": 26,
   "metadata": {},
   "outputs": [
    {
     "data": {
      "image/svg+xml": [
       "<?xml version=\"1.0\" encoding=\"UTF-8\" standalone=\"no\"?>\n",
       "<!DOCTYPE svg PUBLIC \"-//W3C//DTD SVG 1.1//EN\"\n",
       " \"http://www.w3.org/Graphics/SVG/1.1/DTD/svg11.dtd\">\n",
       "<!-- Generated by graphviz version 12.2.1 (20241206.2353)\n",
       " -->\n",
       "<!-- Pages: 1 -->\n",
       "<svg width=\"1140pt\" height=\"128pt\"\n",
       " viewBox=\"0.00 0.00 1139.75 128.00\" xmlns=\"http://www.w3.org/2000/svg\" xmlns:xlink=\"http://www.w3.org/1999/xlink\">\n",
       "<g id=\"graph0\" class=\"graph\" transform=\"scale(1 1) rotate(0) translate(4 124)\">\n",
       "<polygon fill=\"white\" stroke=\"none\" points=\"-4,4 -4,-124 1135.75,-124 1135.75,4 -4,4\"/>\n",
       "<!-- 4507491344 -->\n",
       "<g id=\"node1\" class=\"node\">\n",
       "<title>4507491344</title>\n",
       "<polygon fill=\"none\" stroke=\"black\" points=\"942,-27.5 942,-63.5 1131.75,-63.5 1131.75,-27.5 942,-27.5\"/>\n",
       "<text text-anchor=\"middle\" x=\"954.12\" y=\"-40.7\" font-family=\"Times,serif\" font-size=\"14.00\">L</text>\n",
       "<polyline fill=\"none\" stroke=\"black\" points=\"966.25,-28 966.25,-63.5\"/>\n",
       "<text text-anchor=\"middle\" x=\"1008.38\" y=\"-40.7\" font-family=\"Times,serif\" font-size=\"14.00\">data &#45;8.0000</text>\n",
       "<polyline fill=\"none\" stroke=\"black\" points=\"1050.5,-28 1050.5,-63.5\"/>\n",
       "<text text-anchor=\"middle\" x=\"1091.12\" y=\"-40.7\" font-family=\"Times,serif\" font-size=\"14.00\">grad 1.0000</text>\n",
       "</g>\n",
       "<!-- 4507491344* -->\n",
       "<g id=\"node2\" class=\"node\">\n",
       "<title>4507491344*</title>\n",
       "<ellipse fill=\"none\" stroke=\"black\" cx=\"879\" cy=\"-45.5\" rx=\"27\" ry=\"18\"/>\n",
       "<text text-anchor=\"middle\" x=\"879\" y=\"-40.45\" font-family=\"Times,serif\" font-size=\"14.00\">*</text>\n",
       "</g>\n",
       "<!-- 4507491344*&#45;&gt;4507491344 -->\n",
       "<g id=\"edge1\" class=\"edge\">\n",
       "<title>4507491344*&#45;&gt;4507491344</title>\n",
       "<path fill=\"none\" stroke=\"black\" d=\"M906.44,-45.5C913.59,-45.5 921.78,-45.5 930.49,-45.5\"/>\n",
       "<polygon fill=\"black\" stroke=\"black\" points=\"930.26,-49 940.26,-45.5 930.26,-42 930.26,-49\"/>\n",
       "</g>\n",
       "<!-- 4507542032 -->\n",
       "<g id=\"node3\" class=\"node\">\n",
       "<title>4507542032</title>\n",
       "<polygon fill=\"none\" stroke=\"black\" points=\"314.25,-83.5 314.25,-119.5 504,-119.5 504,-83.5 314.25,-83.5\"/>\n",
       "<text text-anchor=\"middle\" x=\"325.25\" y=\"-96.7\" font-family=\"Times,serif\" font-size=\"14.00\">c</text>\n",
       "<polyline fill=\"none\" stroke=\"black\" points=\"336.25,-84 336.25,-119.5\"/>\n",
       "<text text-anchor=\"middle\" x=\"379.5\" y=\"-96.7\" font-family=\"Times,serif\" font-size=\"14.00\">data 10.0000</text>\n",
       "<polyline fill=\"none\" stroke=\"black\" points=\"422.75,-84 422.75,-119.5\"/>\n",
       "<text text-anchor=\"middle\" x=\"463.38\" y=\"-96.7\" font-family=\"Times,serif\" font-size=\"14.00\">grad 0.0000</text>\n",
       "</g>\n",
       "<!-- 4507749456+ -->\n",
       "<g id=\"node5\" class=\"node\">\n",
       "<title>4507749456+</title>\n",
       "<ellipse fill=\"none\" stroke=\"black\" cx=\"567\" cy=\"-73.5\" rx=\"27\" ry=\"18\"/>\n",
       "<text text-anchor=\"middle\" x=\"567\" y=\"-68.45\" font-family=\"Times,serif\" font-size=\"14.00\">+</text>\n",
       "</g>\n",
       "<!-- 4507542032&#45;&gt;4507749456+ -->\n",
       "<g id=\"edge6\" class=\"edge\">\n",
       "<title>4507542032&#45;&gt;4507749456+</title>\n",
       "<path fill=\"none\" stroke=\"black\" d=\"M504.39,-84.57C513.16,-82.99 521.65,-81.47 529.37,-80.08\"/>\n",
       "<polygon fill=\"black\" stroke=\"black\" points=\"529.73,-83.57 538.95,-78.36 528.49,-76.68 529.73,-83.57\"/>\n",
       "</g>\n",
       "<!-- 4507749456 -->\n",
       "<g id=\"node4\" class=\"node\">\n",
       "<title>4507749456</title>\n",
       "<polygon fill=\"none\" stroke=\"black\" points=\"631.12,-55.5 631.12,-91.5 814.88,-91.5 814.88,-55.5 631.12,-55.5\"/>\n",
       "<text text-anchor=\"middle\" x=\"642.5\" y=\"-68.7\" font-family=\"Times,serif\" font-size=\"14.00\">d</text>\n",
       "<polyline fill=\"none\" stroke=\"black\" points=\"653.88,-56 653.88,-91.5\"/>\n",
       "<text text-anchor=\"middle\" x=\"693.75\" y=\"-68.7\" font-family=\"Times,serif\" font-size=\"14.00\">data 4.0000</text>\n",
       "<polyline fill=\"none\" stroke=\"black\" points=\"733.62,-56 733.62,-91.5\"/>\n",
       "<text text-anchor=\"middle\" x=\"774.25\" y=\"-68.7\" font-family=\"Times,serif\" font-size=\"14.00\">grad 0.0000</text>\n",
       "</g>\n",
       "<!-- 4507749456&#45;&gt;4507491344* -->\n",
       "<g id=\"edge9\" class=\"edge\">\n",
       "<title>4507749456&#45;&gt;4507491344*</title>\n",
       "<path fill=\"none\" stroke=\"black\" d=\"M815.36,-56.89C824.5,-55.23 833.36,-53.62 841.4,-52.15\"/>\n",
       "<polygon fill=\"black\" stroke=\"black\" points=\"841.83,-55.63 851.04,-50.4 840.57,-48.75 841.83,-55.63\"/>\n",
       "</g>\n",
       "<!-- 4507749456+&#45;&gt;4507749456 -->\n",
       "<g id=\"edge2\" class=\"edge\">\n",
       "<title>4507749456+&#45;&gt;4507749456</title>\n",
       "<path fill=\"none\" stroke=\"black\" d=\"M594.47,-73.5C601.87,-73.5 610.38,-73.5 619.43,-73.5\"/>\n",
       "<polygon fill=\"black\" stroke=\"black\" points=\"619.17,-77 629.17,-73.5 619.17,-70 619.17,-77\"/>\n",
       "</g>\n",
       "<!-- 4506157264 -->\n",
       "<g id=\"node6\" class=\"node\">\n",
       "<title>4506157264</title>\n",
       "<polygon fill=\"none\" stroke=\"black\" points=\"0,-56.5 0,-92.5 188.25,-92.5 188.25,-56.5 0,-56.5\"/>\n",
       "<text text-anchor=\"middle\" x=\"11.38\" y=\"-69.7\" font-family=\"Times,serif\" font-size=\"14.00\">b</text>\n",
       "<polyline fill=\"none\" stroke=\"black\" points=\"22.75,-57 22.75,-92.5\"/>\n",
       "<text text-anchor=\"middle\" x=\"64.88\" y=\"-69.7\" font-family=\"Times,serif\" font-size=\"14.00\">data &#45;3.0000</text>\n",
       "<polyline fill=\"none\" stroke=\"black\" points=\"107,-57 107,-92.5\"/>\n",
       "<text text-anchor=\"middle\" x=\"147.62\" y=\"-69.7\" font-family=\"Times,serif\" font-size=\"14.00\">grad 0.0000</text>\n",
       "</g>\n",
       "<!-- 4507757328* -->\n",
       "<g id=\"node8\" class=\"node\">\n",
       "<title>4507757328*</title>\n",
       "<ellipse fill=\"none\" stroke=\"black\" cx=\"251.25\" cy=\"-46.5\" rx=\"27\" ry=\"18\"/>\n",
       "<text text-anchor=\"middle\" x=\"251.25\" y=\"-41.45\" font-family=\"Times,serif\" font-size=\"14.00\">*</text>\n",
       "</g>\n",
       "<!-- 4506157264&#45;&gt;4507757328* -->\n",
       "<g id=\"edge5\" class=\"edge\">\n",
       "<title>4506157264&#45;&gt;4507757328*</title>\n",
       "<path fill=\"none\" stroke=\"black\" d=\"M188.49,-57.65C197.36,-56.05 205.93,-54.5 213.73,-53.09\"/>\n",
       "<polygon fill=\"black\" stroke=\"black\" points=\"214.2,-56.56 223.42,-51.34 212.95,-49.68 214.2,-56.56\"/>\n",
       "</g>\n",
       "<!-- 4507757328 -->\n",
       "<g id=\"node7\" class=\"node\">\n",
       "<title>4507757328</title>\n",
       "<polygon fill=\"none\" stroke=\"black\" points=\"315.38,-28.5 315.38,-64.5 502.88,-64.5 502.88,-28.5 315.38,-28.5\"/>\n",
       "<text text-anchor=\"middle\" x=\"326.38\" y=\"-41.7\" font-family=\"Times,serif\" font-size=\"14.00\">e</text>\n",
       "<polyline fill=\"none\" stroke=\"black\" points=\"337.38,-29 337.38,-64.5\"/>\n",
       "<text text-anchor=\"middle\" x=\"379.5\" y=\"-41.7\" font-family=\"Times,serif\" font-size=\"14.00\">data &#45;6.0000</text>\n",
       "<polyline fill=\"none\" stroke=\"black\" points=\"421.62,-29 421.62,-64.5\"/>\n",
       "<text text-anchor=\"middle\" x=\"462.25\" y=\"-41.7\" font-family=\"Times,serif\" font-size=\"14.00\">grad 0.0000</text>\n",
       "</g>\n",
       "<!-- 4507757328&#45;&gt;4507749456+ -->\n",
       "<g id=\"edge4\" class=\"edge\">\n",
       "<title>4507757328&#45;&gt;4507749456+</title>\n",
       "<path fill=\"none\" stroke=\"black\" d=\"M503.05,-62.6C512.25,-64.19 521.16,-65.73 529.24,-67.13\"/>\n",
       "<polygon fill=\"black\" stroke=\"black\" points=\"528.48,-70.55 538.93,-68.81 529.68,-63.66 528.48,-70.55\"/>\n",
       "</g>\n",
       "<!-- 4507757328*&#45;&gt;4507757328 -->\n",
       "<g id=\"edge3\" class=\"edge\">\n",
       "<title>4507757328*&#45;&gt;4507757328</title>\n",
       "<path fill=\"none\" stroke=\"black\" d=\"M278.69,-46.5C286.1,-46.5 294.64,-46.5 303.71,-46.5\"/>\n",
       "<polygon fill=\"black\" stroke=\"black\" points=\"303.51,-50 313.51,-46.5 303.51,-43 303.51,-50\"/>\n",
       "</g>\n",
       "<!-- 4507494224 -->\n",
       "<g id=\"node9\" class=\"node\">\n",
       "<title>4507494224</title>\n",
       "<polygon fill=\"none\" stroke=\"black\" points=\"630,-0.5 630,-36.5 816,-36.5 816,-0.5 630,-0.5\"/>\n",
       "<text text-anchor=\"middle\" x=\"640.25\" y=\"-13.7\" font-family=\"Times,serif\" font-size=\"14.00\">f</text>\n",
       "<polyline fill=\"none\" stroke=\"black\" points=\"650.5,-1 650.5,-36.5\"/>\n",
       "<text text-anchor=\"middle\" x=\"692.62\" y=\"-13.7\" font-family=\"Times,serif\" font-size=\"14.00\">data &#45;2.0000</text>\n",
       "<polyline fill=\"none\" stroke=\"black\" points=\"734.75,-1 734.75,-36.5\"/>\n",
       "<text text-anchor=\"middle\" x=\"775.38\" y=\"-13.7\" font-family=\"Times,serif\" font-size=\"14.00\">grad 0.0000</text>\n",
       "</g>\n",
       "<!-- 4507494224&#45;&gt;4507491344* -->\n",
       "<g id=\"edge8\" class=\"edge\">\n",
       "<title>4507494224&#45;&gt;4507491344*</title>\n",
       "<path fill=\"none\" stroke=\"black\" d=\"M816.25,-34.67C825.01,-36.21 833.5,-37.7 841.24,-39.05\"/>\n",
       "<polygon fill=\"black\" stroke=\"black\" points=\"840.39,-42.46 850.84,-40.74 841.6,-35.56 840.39,-42.46\"/>\n",
       "</g>\n",
       "<!-- 4507537296 -->\n",
       "<g id=\"node10\" class=\"node\">\n",
       "<title>4507537296</title>\n",
       "<polygon fill=\"none\" stroke=\"black\" points=\"2.62,-1.5 2.62,-37.5 185.62,-37.5 185.62,-1.5 2.62,-1.5\"/>\n",
       "<text text-anchor=\"middle\" x=\"13.62\" y=\"-14.7\" font-family=\"Times,serif\" font-size=\"14.00\">a</text>\n",
       "<polyline fill=\"none\" stroke=\"black\" points=\"24.62,-2 24.62,-37.5\"/>\n",
       "<text text-anchor=\"middle\" x=\"64.5\" y=\"-14.7\" font-family=\"Times,serif\" font-size=\"14.00\">data 2.0000</text>\n",
       "<polyline fill=\"none\" stroke=\"black\" points=\"104.38,-2 104.38,-37.5\"/>\n",
       "<text text-anchor=\"middle\" x=\"145\" y=\"-14.7\" font-family=\"Times,serif\" font-size=\"14.00\">grad 0.0000</text>\n",
       "</g>\n",
       "<!-- 4507537296&#45;&gt;4507757328* -->\n",
       "<g id=\"edge7\" class=\"edge\">\n",
       "<title>4507537296&#45;&gt;4507757328*</title>\n",
       "<path fill=\"none\" stroke=\"black\" d=\"M185.81,-35.28C195.45,-36.96 204.82,-38.59 213.29,-40.07\"/>\n",
       "<polygon fill=\"black\" stroke=\"black\" points=\"212.65,-43.51 223.1,-41.77 213.85,-36.61 212.65,-43.51\"/>\n",
       "</g>\n",
       "</g>\n",
       "</svg>\n"
      ],
      "text/plain": [
       "<graphviz.graphs.Digraph at 0x103e42290>"
      ]
     },
     "execution_count": 26,
     "metadata": {},
     "output_type": "execute_result"
    }
   ],
   "source": [
    "draw_dot(L)"
   ]
  },
  {
   "cell_type": "markdown",
   "metadata": {},
   "source": [
    "to find the gradient of d, we need to find dL/dd \\\n",
    "L = d * f\\\n",
    "the derivarive is (f(x+h)-f(x))/h\\\n",
    "so we bump d by h\\\n",
    "((d+h)*f (d*f))/h\\\n",
    "to calculate derivative\\\n",
    "d*f + h*f - d*f / h (the d*f cancel out each other)\\\n",
    "h*f/h\\\n",
    "f\\\n",
    "so the gradient of d is the value of 'f' and vice versa\n"
   ]
  },
  {
   "cell_type": "markdown",
   "metadata": {},
   "source": [
    "to confirm this we can nudge the value of f to see if the derivative is the value of d"
   ]
  },
  {
   "cell_type": "code",
   "execution_count": 29,
   "metadata": {},
   "outputs": [
    {
     "name": "stdout",
     "output_type": "stream",
     "text": [
      "3.9999999999995595\n"
     ]
    }
   ],
   "source": [
    "def test():\n",
    "    \n",
    "    h = 0.001\n",
    "    \n",
    "    a = Value(2.0, label='a')\n",
    "    b = Value(-3.0, label='b')\n",
    "    c = Value(10.0, label='c')\n",
    "    e = a*b; e.label='e'\n",
    "    d = e+c; d.label='d'\n",
    "    f= Value(-2.0, label='f')\n",
    "    L = d*f; L.label='L'\n",
    "    L1 = L.data\n",
    "    \n",
    "    a = Value(2.0 , label='a')\n",
    "    b = Value(-3.0, label='b')\n",
    "    c = Value(10.0, label='c')\n",
    "    e = a*b; e.label='e'\n",
    "    d = e+c; d.label='d'\n",
    "    f= Value(-2.0 + h, label='f')\n",
    "    L = d*f; L.label='L'\n",
    "    L2 = L.data\n",
    "    \n",
    "    print((L2-L1)/h)\n",
    "    \n",
    "test()"
   ]
  },
  {
   "cell_type": "code",
   "execution_count": 28,
   "metadata": {},
   "outputs": [
    {
     "data": {
      "image/svg+xml": [
       "<?xml version=\"1.0\" encoding=\"UTF-8\" standalone=\"no\"?>\n",
       "<!DOCTYPE svg PUBLIC \"-//W3C//DTD SVG 1.1//EN\"\n",
       " \"http://www.w3.org/Graphics/SVG/1.1/DTD/svg11.dtd\">\n",
       "<!-- Generated by graphviz version 12.2.1 (20241206.2353)\n",
       " -->\n",
       "<!-- Pages: 1 -->\n",
       "<svg width=\"1142pt\" height=\"128pt\"\n",
       " viewBox=\"0.00 0.00 1142.00 128.00\" xmlns=\"http://www.w3.org/2000/svg\" xmlns:xlink=\"http://www.w3.org/1999/xlink\">\n",
       "<g id=\"graph0\" class=\"graph\" transform=\"scale(1 1) rotate(0) translate(4 124)\">\n",
       "<polygon fill=\"white\" stroke=\"none\" points=\"-4,4 -4,-124 1138,-124 1138,4 -4,4\"/>\n",
       "<!-- 4507491344 -->\n",
       "<g id=\"node1\" class=\"node\">\n",
       "<title>4507491344</title>\n",
       "<polygon fill=\"none\" stroke=\"black\" points=\"944.25,-27.5 944.25,-63.5 1134,-63.5 1134,-27.5 944.25,-27.5\"/>\n",
       "<text text-anchor=\"middle\" x=\"956.38\" y=\"-40.7\" font-family=\"Times,serif\" font-size=\"14.00\">L</text>\n",
       "<polyline fill=\"none\" stroke=\"black\" points=\"968.5,-28 968.5,-63.5\"/>\n",
       "<text text-anchor=\"middle\" x=\"1010.62\" y=\"-40.7\" font-family=\"Times,serif\" font-size=\"14.00\">data &#45;8.0000</text>\n",
       "<polyline fill=\"none\" stroke=\"black\" points=\"1052.75,-28 1052.75,-63.5\"/>\n",
       "<text text-anchor=\"middle\" x=\"1093.38\" y=\"-40.7\" font-family=\"Times,serif\" font-size=\"14.00\">grad 1.0000</text>\n",
       "</g>\n",
       "<!-- 4507491344* -->\n",
       "<g id=\"node2\" class=\"node\">\n",
       "<title>4507491344*</title>\n",
       "<ellipse fill=\"none\" stroke=\"black\" cx=\"881.25\" cy=\"-45.5\" rx=\"27\" ry=\"18\"/>\n",
       "<text text-anchor=\"middle\" x=\"881.25\" y=\"-40.45\" font-family=\"Times,serif\" font-size=\"14.00\">*</text>\n",
       "</g>\n",
       "<!-- 4507491344*&#45;&gt;4507491344 -->\n",
       "<g id=\"edge1\" class=\"edge\">\n",
       "<title>4507491344*&#45;&gt;4507491344</title>\n",
       "<path fill=\"none\" stroke=\"black\" d=\"M908.69,-45.5C915.84,-45.5 924.03,-45.5 932.74,-45.5\"/>\n",
       "<polygon fill=\"black\" stroke=\"black\" points=\"932.51,-49 942.51,-45.5 932.51,-42 932.51,-49\"/>\n",
       "</g>\n",
       "<!-- 4507542032 -->\n",
       "<g id=\"node3\" class=\"node\">\n",
       "<title>4507542032</title>\n",
       "<polygon fill=\"none\" stroke=\"black\" points=\"314.25,-83.5 314.25,-119.5 504,-119.5 504,-83.5 314.25,-83.5\"/>\n",
       "<text text-anchor=\"middle\" x=\"325.25\" y=\"-96.7\" font-family=\"Times,serif\" font-size=\"14.00\">c</text>\n",
       "<polyline fill=\"none\" stroke=\"black\" points=\"336.25,-84 336.25,-119.5\"/>\n",
       "<text text-anchor=\"middle\" x=\"379.5\" y=\"-96.7\" font-family=\"Times,serif\" font-size=\"14.00\">data 10.0000</text>\n",
       "<polyline fill=\"none\" stroke=\"black\" points=\"422.75,-84 422.75,-119.5\"/>\n",
       "<text text-anchor=\"middle\" x=\"463.38\" y=\"-96.7\" font-family=\"Times,serif\" font-size=\"14.00\">grad 0.0000</text>\n",
       "</g>\n",
       "<!-- 4507749456+ -->\n",
       "<g id=\"node5\" class=\"node\">\n",
       "<title>4507749456+</title>\n",
       "<ellipse fill=\"none\" stroke=\"black\" cx=\"567\" cy=\"-73.5\" rx=\"27\" ry=\"18\"/>\n",
       "<text text-anchor=\"middle\" x=\"567\" y=\"-68.45\" font-family=\"Times,serif\" font-size=\"14.00\">+</text>\n",
       "</g>\n",
       "<!-- 4507542032&#45;&gt;4507749456+ -->\n",
       "<g id=\"edge6\" class=\"edge\">\n",
       "<title>4507542032&#45;&gt;4507749456+</title>\n",
       "<path fill=\"none\" stroke=\"black\" d=\"M504.39,-84.57C513.16,-82.99 521.65,-81.47 529.37,-80.08\"/>\n",
       "<polygon fill=\"black\" stroke=\"black\" points=\"529.73,-83.57 538.95,-78.36 528.49,-76.68 529.73,-83.57\"/>\n",
       "</g>\n",
       "<!-- 4507749456 -->\n",
       "<g id=\"node4\" class=\"node\">\n",
       "<title>4507749456</title>\n",
       "<polygon fill=\"none\" stroke=\"black\" points=\"630,-55.5 630,-91.5 818.25,-91.5 818.25,-55.5 630,-55.5\"/>\n",
       "<text text-anchor=\"middle\" x=\"641.38\" y=\"-68.7\" font-family=\"Times,serif\" font-size=\"14.00\">d</text>\n",
       "<polyline fill=\"none\" stroke=\"black\" points=\"652.75,-56 652.75,-91.5\"/>\n",
       "<text text-anchor=\"middle\" x=\"692.62\" y=\"-68.7\" font-family=\"Times,serif\" font-size=\"14.00\">data 4.0000</text>\n",
       "<polyline fill=\"none\" stroke=\"black\" points=\"732.5,-56 732.5,-91.5\"/>\n",
       "<text text-anchor=\"middle\" x=\"775.38\" y=\"-68.7\" font-family=\"Times,serif\" font-size=\"14.00\">grad &#45;2.0000</text>\n",
       "</g>\n",
       "<!-- 4507749456&#45;&gt;4507491344* -->\n",
       "<g id=\"edge9\" class=\"edge\">\n",
       "<title>4507749456&#45;&gt;4507491344*</title>\n",
       "<path fill=\"none\" stroke=\"black\" d=\"M818.49,-56.65C827.36,-55.05 835.93,-53.5 843.73,-52.09\"/>\n",
       "<polygon fill=\"black\" stroke=\"black\" points=\"844.2,-55.56 853.42,-50.34 842.95,-48.68 844.2,-55.56\"/>\n",
       "</g>\n",
       "<!-- 4507749456+&#45;&gt;4507749456 -->\n",
       "<g id=\"edge2\" class=\"edge\">\n",
       "<title>4507749456+&#45;&gt;4507749456</title>\n",
       "<path fill=\"none\" stroke=\"black\" d=\"M594.31,-73.5C601.49,-73.5 609.72,-73.5 618.47,-73.5\"/>\n",
       "<polygon fill=\"black\" stroke=\"black\" points=\"618.29,-77 628.29,-73.5 618.29,-70 618.29,-77\"/>\n",
       "</g>\n",
       "<!-- 4506157264 -->\n",
       "<g id=\"node6\" class=\"node\">\n",
       "<title>4506157264</title>\n",
       "<polygon fill=\"none\" stroke=\"black\" points=\"0,-56.5 0,-92.5 188.25,-92.5 188.25,-56.5 0,-56.5\"/>\n",
       "<text text-anchor=\"middle\" x=\"11.38\" y=\"-69.7\" font-family=\"Times,serif\" font-size=\"14.00\">b</text>\n",
       "<polyline fill=\"none\" stroke=\"black\" points=\"22.75,-57 22.75,-92.5\"/>\n",
       "<text text-anchor=\"middle\" x=\"64.88\" y=\"-69.7\" font-family=\"Times,serif\" font-size=\"14.00\">data &#45;3.0000</text>\n",
       "<polyline fill=\"none\" stroke=\"black\" points=\"107,-57 107,-92.5\"/>\n",
       "<text text-anchor=\"middle\" x=\"147.62\" y=\"-69.7\" font-family=\"Times,serif\" font-size=\"14.00\">grad 0.0000</text>\n",
       "</g>\n",
       "<!-- 4507757328* -->\n",
       "<g id=\"node8\" class=\"node\">\n",
       "<title>4507757328*</title>\n",
       "<ellipse fill=\"none\" stroke=\"black\" cx=\"251.25\" cy=\"-46.5\" rx=\"27\" ry=\"18\"/>\n",
       "<text text-anchor=\"middle\" x=\"251.25\" y=\"-41.45\" font-family=\"Times,serif\" font-size=\"14.00\">*</text>\n",
       "</g>\n",
       "<!-- 4506157264&#45;&gt;4507757328* -->\n",
       "<g id=\"edge5\" class=\"edge\">\n",
       "<title>4506157264&#45;&gt;4507757328*</title>\n",
       "<path fill=\"none\" stroke=\"black\" d=\"M188.49,-57.65C197.36,-56.05 205.93,-54.5 213.73,-53.09\"/>\n",
       "<polygon fill=\"black\" stroke=\"black\" points=\"214.2,-56.56 223.42,-51.34 212.95,-49.68 214.2,-56.56\"/>\n",
       "</g>\n",
       "<!-- 4507757328 -->\n",
       "<g id=\"node7\" class=\"node\">\n",
       "<title>4507757328</title>\n",
       "<polygon fill=\"none\" stroke=\"black\" points=\"315.38,-28.5 315.38,-64.5 502.88,-64.5 502.88,-28.5 315.38,-28.5\"/>\n",
       "<text text-anchor=\"middle\" x=\"326.38\" y=\"-41.7\" font-family=\"Times,serif\" font-size=\"14.00\">e</text>\n",
       "<polyline fill=\"none\" stroke=\"black\" points=\"337.38,-29 337.38,-64.5\"/>\n",
       "<text text-anchor=\"middle\" x=\"379.5\" y=\"-41.7\" font-family=\"Times,serif\" font-size=\"14.00\">data &#45;6.0000</text>\n",
       "<polyline fill=\"none\" stroke=\"black\" points=\"421.62,-29 421.62,-64.5\"/>\n",
       "<text text-anchor=\"middle\" x=\"462.25\" y=\"-41.7\" font-family=\"Times,serif\" font-size=\"14.00\">grad 0.0000</text>\n",
       "</g>\n",
       "<!-- 4507757328&#45;&gt;4507749456+ -->\n",
       "<g id=\"edge4\" class=\"edge\">\n",
       "<title>4507757328&#45;&gt;4507749456+</title>\n",
       "<path fill=\"none\" stroke=\"black\" d=\"M503.05,-62.6C512.25,-64.19 521.16,-65.73 529.24,-67.13\"/>\n",
       "<polygon fill=\"black\" stroke=\"black\" points=\"528.48,-70.55 538.93,-68.81 529.68,-63.66 528.48,-70.55\"/>\n",
       "</g>\n",
       "<!-- 4507757328*&#45;&gt;4507757328 -->\n",
       "<g id=\"edge3\" class=\"edge\">\n",
       "<title>4507757328*&#45;&gt;4507757328</title>\n",
       "<path fill=\"none\" stroke=\"black\" d=\"M278.69,-46.5C286.1,-46.5 294.64,-46.5 303.71,-46.5\"/>\n",
       "<polygon fill=\"black\" stroke=\"black\" points=\"303.51,-50 313.51,-46.5 303.51,-43 303.51,-50\"/>\n",
       "</g>\n",
       "<!-- 4507494224 -->\n",
       "<g id=\"node9\" class=\"node\">\n",
       "<title>4507494224</title>\n",
       "<polygon fill=\"none\" stroke=\"black\" points=\"631.12,-0.5 631.12,-36.5 817.12,-36.5 817.12,-0.5 631.12,-0.5\"/>\n",
       "<text text-anchor=\"middle\" x=\"641.38\" y=\"-13.7\" font-family=\"Times,serif\" font-size=\"14.00\">f</text>\n",
       "<polyline fill=\"none\" stroke=\"black\" points=\"651.62,-1 651.62,-36.5\"/>\n",
       "<text text-anchor=\"middle\" x=\"693.75\" y=\"-13.7\" font-family=\"Times,serif\" font-size=\"14.00\">data &#45;2.0000</text>\n",
       "<polyline fill=\"none\" stroke=\"black\" points=\"735.88,-1 735.88,-36.5\"/>\n",
       "<text text-anchor=\"middle\" x=\"776.5\" y=\"-13.7\" font-family=\"Times,serif\" font-size=\"14.00\">grad 4.0000</text>\n",
       "</g>\n",
       "<!-- 4507494224&#45;&gt;4507491344* -->\n",
       "<g id=\"edge8\" class=\"edge\">\n",
       "<title>4507494224&#45;&gt;4507491344*</title>\n",
       "<path fill=\"none\" stroke=\"black\" d=\"M817.6,-34.6C826.76,-36.19 835.62,-37.73 843.67,-39.13\"/>\n",
       "<polygon fill=\"black\" stroke=\"black\" points=\"842.85,-42.54 853.3,-40.81 844.05,-35.65 842.85,-42.54\"/>\n",
       "</g>\n",
       "<!-- 4507537296 -->\n",
       "<g id=\"node10\" class=\"node\">\n",
       "<title>4507537296</title>\n",
       "<polygon fill=\"none\" stroke=\"black\" points=\"2.62,-1.5 2.62,-37.5 185.62,-37.5 185.62,-1.5 2.62,-1.5\"/>\n",
       "<text text-anchor=\"middle\" x=\"13.62\" y=\"-14.7\" font-family=\"Times,serif\" font-size=\"14.00\">a</text>\n",
       "<polyline fill=\"none\" stroke=\"black\" points=\"24.62,-2 24.62,-37.5\"/>\n",
       "<text text-anchor=\"middle\" x=\"64.5\" y=\"-14.7\" font-family=\"Times,serif\" font-size=\"14.00\">data 2.0000</text>\n",
       "<polyline fill=\"none\" stroke=\"black\" points=\"104.38,-2 104.38,-37.5\"/>\n",
       "<text text-anchor=\"middle\" x=\"145\" y=\"-14.7\" font-family=\"Times,serif\" font-size=\"14.00\">grad 0.0000</text>\n",
       "</g>\n",
       "<!-- 4507537296&#45;&gt;4507757328* -->\n",
       "<g id=\"edge7\" class=\"edge\">\n",
       "<title>4507537296&#45;&gt;4507757328*</title>\n",
       "<path fill=\"none\" stroke=\"black\" d=\"M185.81,-35.28C195.45,-36.96 204.82,-38.59 213.29,-40.07\"/>\n",
       "<polygon fill=\"black\" stroke=\"black\" points=\"212.65,-43.51 223.1,-41.77 213.85,-36.61 212.65,-43.51\"/>\n",
       "</g>\n",
       "</g>\n",
       "</svg>\n"
      ],
      "text/plain": [
       "<graphviz.graphs.Digraph at 0x10cc5dd90>"
      ]
     },
     "execution_count": 28,
     "metadata": {},
     "output_type": "execute_result"
    }
   ],
   "source": [
    "d.grad = -2.0\n",
    "f.grad = 4.0\n",
    "draw_dot(L)"
   ]
  },
  {
   "cell_type": "markdown",
   "metadata": {},
   "source": [
    "now onto finding dd/dc\\\n",
    "d = c + e\\\n",
    "nudging c a little\\\n",
    "(c+h)+e - (c+e)/h\\\n",
    "c + h + e - c - e / h\\\n",
    "h/h\\\n",
    "1.0\\\n",
    "dd/dc = 1.0\\\n",
    "likewise dd/de = 1.0\n"
   ]
  },
  {
   "cell_type": "markdown",
   "metadata": {},
   "source": [
    "The chain rule may also be expressed in Leibniz's notation. If a variable L depends on the variable d, which itself depends on the variable c, then L depends on c as well, via the intermediate variable d. In this case, the chain rule is expressed as\n",
    "$$\\frac{dL}{dc} = \\frac{dL}{dd} \\cdot \\frac{dd}{dc}$$\n"
   ]
  },
  {
   "cell_type": "markdown",
   "metadata": {},
   "source": [
    "dd/dc = 1.0\\\n",
    "dd/de = 1.0\n",
    "\n",
    "want dL/dc = (dL/dd) * (dd/dc)\n",
    "\n",
    "dL\\dd = -2.0\\\n",
    "dd\\dc = 1.0\n",
    "\n",
    "so dL\\dc = -2.0\\\n",
    "by symmetric rule dL\\de = -2.0\n"
   ]
  },
  {
   "cell_type": "markdown",
   "metadata": {},
   "source": [
    "so if c and e are nudged it will affect the L(loss) negative 2 times"
   ]
  },
  {
   "cell_type": "code",
   "execution_count": 30,
   "metadata": {},
   "outputs": [
    {
     "name": "stdout",
     "output_type": "stream",
     "text": [
      "-1.9999999999988916\n"
     ]
    }
   ],
   "source": [
    "def test():\n",
    "    \n",
    "    h = 0.001\n",
    "    \n",
    "    a = Value(2.0, label='a')\n",
    "    b = Value(-3.0, label='b')\n",
    "    c = Value(10.0, label='c')\n",
    "    e = a*b; e.label='e'\n",
    "    d = e+c; d.label='d'\n",
    "    f= Value(-2.0, label='f')\n",
    "    L = d*f; L.label='L'\n",
    "    L1 = L.data\n",
    "    \n",
    "    a = Value(2.0 , label='a')\n",
    "    b = Value(-3.0, label='b')\n",
    "    c = Value(10.0 + h, label='c')\n",
    "    e = a*b; e.label='e'\n",
    "    d = e+c; d.label='d'\n",
    "    f= Value(-2.0, label='f')\n",
    "    L = d*f; L.label='L'\n",
    "    L2 = L.data\n",
    "    \n",
    "    print((L2-L1)/h)\n",
    "    \n",
    "test()"
   ]
  },
  {
   "cell_type": "code",
   "execution_count": 31,
   "metadata": {},
   "outputs": [
    {
     "data": {
      "image/svg+xml": [
       "<?xml version=\"1.0\" encoding=\"UTF-8\" standalone=\"no\"?>\n",
       "<!DOCTYPE svg PUBLIC \"-//W3C//DTD SVG 1.1//EN\"\n",
       " \"http://www.w3.org/Graphics/SVG/1.1/DTD/svg11.dtd\">\n",
       "<!-- Generated by graphviz version 12.2.1 (20241206.2353)\n",
       " -->\n",
       "<!-- Pages: 1 -->\n",
       "<svg width=\"1147pt\" height=\"128pt\"\n",
       " viewBox=\"0.00 0.00 1146.50 128.00\" xmlns=\"http://www.w3.org/2000/svg\" xmlns:xlink=\"http://www.w3.org/1999/xlink\">\n",
       "<g id=\"graph0\" class=\"graph\" transform=\"scale(1 1) rotate(0) translate(4 124)\">\n",
       "<polygon fill=\"white\" stroke=\"none\" points=\"-4,4 -4,-124 1142.5,-124 1142.5,4 -4,4\"/>\n",
       "<!-- 4507491344 -->\n",
       "<g id=\"node1\" class=\"node\">\n",
       "<title>4507491344</title>\n",
       "<polygon fill=\"none\" stroke=\"black\" points=\"948.75,-27.5 948.75,-63.5 1138.5,-63.5 1138.5,-27.5 948.75,-27.5\"/>\n",
       "<text text-anchor=\"middle\" x=\"960.88\" y=\"-40.7\" font-family=\"Times,serif\" font-size=\"14.00\">L</text>\n",
       "<polyline fill=\"none\" stroke=\"black\" points=\"973,-28 973,-63.5\"/>\n",
       "<text text-anchor=\"middle\" x=\"1015.12\" y=\"-40.7\" font-family=\"Times,serif\" font-size=\"14.00\">data &#45;8.0000</text>\n",
       "<polyline fill=\"none\" stroke=\"black\" points=\"1057.25,-28 1057.25,-63.5\"/>\n",
       "<text text-anchor=\"middle\" x=\"1097.88\" y=\"-40.7\" font-family=\"Times,serif\" font-size=\"14.00\">grad 1.0000</text>\n",
       "</g>\n",
       "<!-- 4507491344* -->\n",
       "<g id=\"node2\" class=\"node\">\n",
       "<title>4507491344*</title>\n",
       "<ellipse fill=\"none\" stroke=\"black\" cx=\"885.75\" cy=\"-45.5\" rx=\"27\" ry=\"18\"/>\n",
       "<text text-anchor=\"middle\" x=\"885.75\" y=\"-40.45\" font-family=\"Times,serif\" font-size=\"14.00\">*</text>\n",
       "</g>\n",
       "<!-- 4507491344*&#45;&gt;4507491344 -->\n",
       "<g id=\"edge1\" class=\"edge\">\n",
       "<title>4507491344*&#45;&gt;4507491344</title>\n",
       "<path fill=\"none\" stroke=\"black\" d=\"M913.19,-45.5C920.34,-45.5 928.53,-45.5 937.24,-45.5\"/>\n",
       "<polygon fill=\"black\" stroke=\"black\" points=\"937.01,-49 947.01,-45.5 937.01,-42 937.01,-49\"/>\n",
       "</g>\n",
       "<!-- 4507542032 -->\n",
       "<g id=\"node3\" class=\"node\">\n",
       "<title>4507542032</title>\n",
       "<polygon fill=\"none\" stroke=\"black\" points=\"314.25,-83.5 314.25,-119.5 508.5,-119.5 508.5,-83.5 314.25,-83.5\"/>\n",
       "<text text-anchor=\"middle\" x=\"325.25\" y=\"-96.7\" font-family=\"Times,serif\" font-size=\"14.00\">c</text>\n",
       "<polyline fill=\"none\" stroke=\"black\" points=\"336.25,-84 336.25,-119.5\"/>\n",
       "<text text-anchor=\"middle\" x=\"379.5\" y=\"-96.7\" font-family=\"Times,serif\" font-size=\"14.00\">data 10.0000</text>\n",
       "<polyline fill=\"none\" stroke=\"black\" points=\"422.75,-84 422.75,-119.5\"/>\n",
       "<text text-anchor=\"middle\" x=\"465.62\" y=\"-96.7\" font-family=\"Times,serif\" font-size=\"14.00\">grad &#45;2.0000</text>\n",
       "</g>\n",
       "<!-- 4507749456+ -->\n",
       "<g id=\"node5\" class=\"node\">\n",
       "<title>4507749456+</title>\n",
       "<ellipse fill=\"none\" stroke=\"black\" cx=\"571.5\" cy=\"-73.5\" rx=\"27\" ry=\"18\"/>\n",
       "<text text-anchor=\"middle\" x=\"571.5\" y=\"-68.45\" font-family=\"Times,serif\" font-size=\"14.00\">+</text>\n",
       "</g>\n",
       "<!-- 4507542032&#45;&gt;4507749456+ -->\n",
       "<g id=\"edge6\" class=\"edge\">\n",
       "<title>4507542032&#45;&gt;4507749456+</title>\n",
       "<path fill=\"none\" stroke=\"black\" d=\"M508.91,-84.41C517.71,-82.85 526.2,-81.34 533.92,-79.98\"/>\n",
       "<polygon fill=\"black\" stroke=\"black\" points=\"534.27,-83.47 543.5,-78.28 533.05,-76.58 534.27,-83.47\"/>\n",
       "</g>\n",
       "<!-- 4507749456 -->\n",
       "<g id=\"node4\" class=\"node\">\n",
       "<title>4507749456</title>\n",
       "<polygon fill=\"none\" stroke=\"black\" points=\"634.5,-55.5 634.5,-91.5 822.75,-91.5 822.75,-55.5 634.5,-55.5\"/>\n",
       "<text text-anchor=\"middle\" x=\"645.88\" y=\"-68.7\" font-family=\"Times,serif\" font-size=\"14.00\">d</text>\n",
       "<polyline fill=\"none\" stroke=\"black\" points=\"657.25,-56 657.25,-91.5\"/>\n",
       "<text text-anchor=\"middle\" x=\"697.12\" y=\"-68.7\" font-family=\"Times,serif\" font-size=\"14.00\">data 4.0000</text>\n",
       "<polyline fill=\"none\" stroke=\"black\" points=\"737,-56 737,-91.5\"/>\n",
       "<text text-anchor=\"middle\" x=\"779.88\" y=\"-68.7\" font-family=\"Times,serif\" font-size=\"14.00\">grad &#45;2.0000</text>\n",
       "</g>\n",
       "<!-- 4507749456&#45;&gt;4507491344* -->\n",
       "<g id=\"edge9\" class=\"edge\">\n",
       "<title>4507749456&#45;&gt;4507491344*</title>\n",
       "<path fill=\"none\" stroke=\"black\" d=\"M822.99,-56.65C831.86,-55.05 840.43,-53.5 848.23,-52.09\"/>\n",
       "<polygon fill=\"black\" stroke=\"black\" points=\"848.7,-55.56 857.92,-50.34 847.45,-48.68 848.7,-55.56\"/>\n",
       "</g>\n",
       "<!-- 4507749456+&#45;&gt;4507749456 -->\n",
       "<g id=\"edge2\" class=\"edge\">\n",
       "<title>4507749456+&#45;&gt;4507749456</title>\n",
       "<path fill=\"none\" stroke=\"black\" d=\"M598.81,-73.5C605.99,-73.5 614.22,-73.5 622.97,-73.5\"/>\n",
       "<polygon fill=\"black\" stroke=\"black\" points=\"622.79,-77 632.79,-73.5 622.79,-70 622.79,-77\"/>\n",
       "</g>\n",
       "<!-- 4506157264 -->\n",
       "<g id=\"node6\" class=\"node\">\n",
       "<title>4506157264</title>\n",
       "<polygon fill=\"none\" stroke=\"black\" points=\"0,-56.5 0,-92.5 188.25,-92.5 188.25,-56.5 0,-56.5\"/>\n",
       "<text text-anchor=\"middle\" x=\"11.38\" y=\"-69.7\" font-family=\"Times,serif\" font-size=\"14.00\">b</text>\n",
       "<polyline fill=\"none\" stroke=\"black\" points=\"22.75,-57 22.75,-92.5\"/>\n",
       "<text text-anchor=\"middle\" x=\"64.88\" y=\"-69.7\" font-family=\"Times,serif\" font-size=\"14.00\">data &#45;3.0000</text>\n",
       "<polyline fill=\"none\" stroke=\"black\" points=\"107,-57 107,-92.5\"/>\n",
       "<text text-anchor=\"middle\" x=\"147.62\" y=\"-69.7\" font-family=\"Times,serif\" font-size=\"14.00\">grad 0.0000</text>\n",
       "</g>\n",
       "<!-- 4507757328* -->\n",
       "<g id=\"node8\" class=\"node\">\n",
       "<title>4507757328*</title>\n",
       "<ellipse fill=\"none\" stroke=\"black\" cx=\"251.25\" cy=\"-46.5\" rx=\"27\" ry=\"18\"/>\n",
       "<text text-anchor=\"middle\" x=\"251.25\" y=\"-41.45\" font-family=\"Times,serif\" font-size=\"14.00\">*</text>\n",
       "</g>\n",
       "<!-- 4506157264&#45;&gt;4507757328* -->\n",
       "<g id=\"edge5\" class=\"edge\">\n",
       "<title>4506157264&#45;&gt;4507757328*</title>\n",
       "<path fill=\"none\" stroke=\"black\" d=\"M188.49,-57.65C197.36,-56.05 205.93,-54.5 213.73,-53.09\"/>\n",
       "<polygon fill=\"black\" stroke=\"black\" points=\"214.2,-56.56 223.42,-51.34 212.95,-49.68 214.2,-56.56\"/>\n",
       "</g>\n",
       "<!-- 4507757328 -->\n",
       "<g id=\"node7\" class=\"node\">\n",
       "<title>4507757328</title>\n",
       "<polygon fill=\"none\" stroke=\"black\" points=\"315.38,-28.5 315.38,-64.5 507.38,-64.5 507.38,-28.5 315.38,-28.5\"/>\n",
       "<text text-anchor=\"middle\" x=\"326.38\" y=\"-41.7\" font-family=\"Times,serif\" font-size=\"14.00\">e</text>\n",
       "<polyline fill=\"none\" stroke=\"black\" points=\"337.38,-29 337.38,-64.5\"/>\n",
       "<text text-anchor=\"middle\" x=\"379.5\" y=\"-41.7\" font-family=\"Times,serif\" font-size=\"14.00\">data &#45;6.0000</text>\n",
       "<polyline fill=\"none\" stroke=\"black\" points=\"421.62,-29 421.62,-64.5\"/>\n",
       "<text text-anchor=\"middle\" x=\"464.5\" y=\"-41.7\" font-family=\"Times,serif\" font-size=\"14.00\">grad &#45;2.0000</text>\n",
       "</g>\n",
       "<!-- 4507757328&#45;&gt;4507749456+ -->\n",
       "<g id=\"edge4\" class=\"edge\">\n",
       "<title>4507757328&#45;&gt;4507749456+</title>\n",
       "<path fill=\"none\" stroke=\"black\" d=\"M507.55,-62.75C516.78,-64.33 525.7,-65.85 533.79,-67.23\"/>\n",
       "<polygon fill=\"black\" stroke=\"black\" points=\"533.03,-70.65 543.48,-68.89 534.21,-63.75 533.03,-70.65\"/>\n",
       "</g>\n",
       "<!-- 4507757328*&#45;&gt;4507757328 -->\n",
       "<g id=\"edge3\" class=\"edge\">\n",
       "<title>4507757328*&#45;&gt;4507757328</title>\n",
       "<path fill=\"none\" stroke=\"black\" d=\"M278.72,-46.5C286.09,-46.5 294.59,-46.5 303.63,-46.5\"/>\n",
       "<polygon fill=\"black\" stroke=\"black\" points=\"303.39,-50 313.39,-46.5 303.39,-43 303.39,-50\"/>\n",
       "</g>\n",
       "<!-- 4507494224 -->\n",
       "<g id=\"node9\" class=\"node\">\n",
       "<title>4507494224</title>\n",
       "<polygon fill=\"none\" stroke=\"black\" points=\"635.62,-0.5 635.62,-36.5 821.62,-36.5 821.62,-0.5 635.62,-0.5\"/>\n",
       "<text text-anchor=\"middle\" x=\"645.88\" y=\"-13.7\" font-family=\"Times,serif\" font-size=\"14.00\">f</text>\n",
       "<polyline fill=\"none\" stroke=\"black\" points=\"656.12,-1 656.12,-36.5\"/>\n",
       "<text text-anchor=\"middle\" x=\"698.25\" y=\"-13.7\" font-family=\"Times,serif\" font-size=\"14.00\">data &#45;2.0000</text>\n",
       "<polyline fill=\"none\" stroke=\"black\" points=\"740.38,-1 740.38,-36.5\"/>\n",
       "<text text-anchor=\"middle\" x=\"781\" y=\"-13.7\" font-family=\"Times,serif\" font-size=\"14.00\">grad 4.0000</text>\n",
       "</g>\n",
       "<!-- 4507494224&#45;&gt;4507491344* -->\n",
       "<g id=\"edge8\" class=\"edge\">\n",
       "<title>4507494224&#45;&gt;4507491344*</title>\n",
       "<path fill=\"none\" stroke=\"black\" d=\"M822.1,-34.6C831.26,-36.19 840.12,-37.73 848.17,-39.13\"/>\n",
       "<polygon fill=\"black\" stroke=\"black\" points=\"847.35,-42.54 857.8,-40.81 848.55,-35.65 847.35,-42.54\"/>\n",
       "</g>\n",
       "<!-- 4507537296 -->\n",
       "<g id=\"node10\" class=\"node\">\n",
       "<title>4507537296</title>\n",
       "<polygon fill=\"none\" stroke=\"black\" points=\"2.62,-1.5 2.62,-37.5 185.62,-37.5 185.62,-1.5 2.62,-1.5\"/>\n",
       "<text text-anchor=\"middle\" x=\"13.62\" y=\"-14.7\" font-family=\"Times,serif\" font-size=\"14.00\">a</text>\n",
       "<polyline fill=\"none\" stroke=\"black\" points=\"24.62,-2 24.62,-37.5\"/>\n",
       "<text text-anchor=\"middle\" x=\"64.5\" y=\"-14.7\" font-family=\"Times,serif\" font-size=\"14.00\">data 2.0000</text>\n",
       "<polyline fill=\"none\" stroke=\"black\" points=\"104.38,-2 104.38,-37.5\"/>\n",
       "<text text-anchor=\"middle\" x=\"145\" y=\"-14.7\" font-family=\"Times,serif\" font-size=\"14.00\">grad 0.0000</text>\n",
       "</g>\n",
       "<!-- 4507537296&#45;&gt;4507757328* -->\n",
       "<g id=\"edge7\" class=\"edge\">\n",
       "<title>4507537296&#45;&gt;4507757328*</title>\n",
       "<path fill=\"none\" stroke=\"black\" d=\"M185.81,-35.28C195.45,-36.96 204.82,-38.59 213.29,-40.07\"/>\n",
       "<polygon fill=\"black\" stroke=\"black\" points=\"212.65,-43.51 223.1,-41.77 213.85,-36.61 212.65,-43.51\"/>\n",
       "</g>\n",
       "</g>\n",
       "</svg>\n"
      ],
      "text/plain": [
       "<graphviz.graphs.Digraph at 0x10caee850>"
      ]
     },
     "execution_count": 31,
     "metadata": {},
     "output_type": "execute_result"
    }
   ],
   "source": [
    "c.grad = -2.0\n",
    "e.grad = -2.0\n",
    "draw_dot(L)"
   ]
  },
  {
   "cell_type": "markdown",
   "metadata": {},
   "source": [
    "to find the gradients of last(first) layer\\\n",
    "dL/da = ?\\\n",
    "dL/da = (dL/de) * (de/da)\\\n",
    "dl/de = -2.0\\\n",
    "de/da = -3.0\\\n",
    "de/db = 2\n",
    "\n",
    "so (dL/de) * (de/da) = -2.0 * -3.0 = 6.0\\\n",
    " (dL/de) * (de/db) = -2.0 * 2.0 = -4.0"
   ]
  },
  {
   "cell_type": "code",
   "execution_count": 32,
   "metadata": {},
   "outputs": [
    {
     "data": {
      "image/svg+xml": [
       "<?xml version=\"1.0\" encoding=\"UTF-8\" standalone=\"no\"?>\n",
       "<!DOCTYPE svg PUBLIC \"-//W3C//DTD SVG 1.1//EN\"\n",
       " \"http://www.w3.org/Graphics/SVG/1.1/DTD/svg11.dtd\">\n",
       "<!-- Generated by graphviz version 12.2.1 (20241206.2353)\n",
       " -->\n",
       "<!-- Pages: 1 -->\n",
       "<svg width=\"1151pt\" height=\"128pt\"\n",
       " viewBox=\"0.00 0.00 1151.00 128.00\" xmlns=\"http://www.w3.org/2000/svg\" xmlns:xlink=\"http://www.w3.org/1999/xlink\">\n",
       "<g id=\"graph0\" class=\"graph\" transform=\"scale(1 1) rotate(0) translate(4 124)\">\n",
       "<polygon fill=\"white\" stroke=\"none\" points=\"-4,4 -4,-124 1147,-124 1147,4 -4,4\"/>\n",
       "<!-- 4507491344 -->\n",
       "<g id=\"node1\" class=\"node\">\n",
       "<title>4507491344</title>\n",
       "<polygon fill=\"none\" stroke=\"black\" points=\"953.25,-27.5 953.25,-63.5 1143,-63.5 1143,-27.5 953.25,-27.5\"/>\n",
       "<text text-anchor=\"middle\" x=\"965.38\" y=\"-40.7\" font-family=\"Times,serif\" font-size=\"14.00\">L</text>\n",
       "<polyline fill=\"none\" stroke=\"black\" points=\"977.5,-28 977.5,-63.5\"/>\n",
       "<text text-anchor=\"middle\" x=\"1019.62\" y=\"-40.7\" font-family=\"Times,serif\" font-size=\"14.00\">data &#45;8.0000</text>\n",
       "<polyline fill=\"none\" stroke=\"black\" points=\"1061.75,-28 1061.75,-63.5\"/>\n",
       "<text text-anchor=\"middle\" x=\"1102.38\" y=\"-40.7\" font-family=\"Times,serif\" font-size=\"14.00\">grad 1.0000</text>\n",
       "</g>\n",
       "<!-- 4507491344* -->\n",
       "<g id=\"node2\" class=\"node\">\n",
       "<title>4507491344*</title>\n",
       "<ellipse fill=\"none\" stroke=\"black\" cx=\"890.25\" cy=\"-45.5\" rx=\"27\" ry=\"18\"/>\n",
       "<text text-anchor=\"middle\" x=\"890.25\" y=\"-40.45\" font-family=\"Times,serif\" font-size=\"14.00\">*</text>\n",
       "</g>\n",
       "<!-- 4507491344*&#45;&gt;4507491344 -->\n",
       "<g id=\"edge1\" class=\"edge\">\n",
       "<title>4507491344*&#45;&gt;4507491344</title>\n",
       "<path fill=\"none\" stroke=\"black\" d=\"M917.69,-45.5C924.84,-45.5 933.03,-45.5 941.74,-45.5\"/>\n",
       "<polygon fill=\"black\" stroke=\"black\" points=\"941.51,-49 951.51,-45.5 941.51,-42 941.51,-49\"/>\n",
       "</g>\n",
       "<!-- 4507542032 -->\n",
       "<g id=\"node3\" class=\"node\">\n",
       "<title>4507542032</title>\n",
       "<polygon fill=\"none\" stroke=\"black\" points=\"318.75,-83.5 318.75,-119.5 513,-119.5 513,-83.5 318.75,-83.5\"/>\n",
       "<text text-anchor=\"middle\" x=\"329.75\" y=\"-96.7\" font-family=\"Times,serif\" font-size=\"14.00\">c</text>\n",
       "<polyline fill=\"none\" stroke=\"black\" points=\"340.75,-84 340.75,-119.5\"/>\n",
       "<text text-anchor=\"middle\" x=\"384\" y=\"-96.7\" font-family=\"Times,serif\" font-size=\"14.00\">data 10.0000</text>\n",
       "<polyline fill=\"none\" stroke=\"black\" points=\"427.25,-84 427.25,-119.5\"/>\n",
       "<text text-anchor=\"middle\" x=\"470.12\" y=\"-96.7\" font-family=\"Times,serif\" font-size=\"14.00\">grad &#45;2.0000</text>\n",
       "</g>\n",
       "<!-- 4507749456+ -->\n",
       "<g id=\"node5\" class=\"node\">\n",
       "<title>4507749456+</title>\n",
       "<ellipse fill=\"none\" stroke=\"black\" cx=\"576\" cy=\"-73.5\" rx=\"27\" ry=\"18\"/>\n",
       "<text text-anchor=\"middle\" x=\"576\" y=\"-68.45\" font-family=\"Times,serif\" font-size=\"14.00\">+</text>\n",
       "</g>\n",
       "<!-- 4507542032&#45;&gt;4507749456+ -->\n",
       "<g id=\"edge6\" class=\"edge\">\n",
       "<title>4507542032&#45;&gt;4507749456+</title>\n",
       "<path fill=\"none\" stroke=\"black\" d=\"M513.41,-84.41C522.21,-82.85 530.7,-81.34 538.42,-79.98\"/>\n",
       "<polygon fill=\"black\" stroke=\"black\" points=\"538.77,-83.47 548,-78.28 537.55,-76.58 538.77,-83.47\"/>\n",
       "</g>\n",
       "<!-- 4507749456 -->\n",
       "<g id=\"node4\" class=\"node\">\n",
       "<title>4507749456</title>\n",
       "<polygon fill=\"none\" stroke=\"black\" points=\"639,-55.5 639,-91.5 827.25,-91.5 827.25,-55.5 639,-55.5\"/>\n",
       "<text text-anchor=\"middle\" x=\"650.38\" y=\"-68.7\" font-family=\"Times,serif\" font-size=\"14.00\">d</text>\n",
       "<polyline fill=\"none\" stroke=\"black\" points=\"661.75,-56 661.75,-91.5\"/>\n",
       "<text text-anchor=\"middle\" x=\"701.62\" y=\"-68.7\" font-family=\"Times,serif\" font-size=\"14.00\">data 4.0000</text>\n",
       "<polyline fill=\"none\" stroke=\"black\" points=\"741.5,-56 741.5,-91.5\"/>\n",
       "<text text-anchor=\"middle\" x=\"784.38\" y=\"-68.7\" font-family=\"Times,serif\" font-size=\"14.00\">grad &#45;2.0000</text>\n",
       "</g>\n",
       "<!-- 4507749456&#45;&gt;4507491344* -->\n",
       "<g id=\"edge9\" class=\"edge\">\n",
       "<title>4507749456&#45;&gt;4507491344*</title>\n",
       "<path fill=\"none\" stroke=\"black\" d=\"M827.49,-56.65C836.36,-55.05 844.93,-53.5 852.73,-52.09\"/>\n",
       "<polygon fill=\"black\" stroke=\"black\" points=\"853.2,-55.56 862.42,-50.34 851.95,-48.68 853.2,-55.56\"/>\n",
       "</g>\n",
       "<!-- 4507749456+&#45;&gt;4507749456 -->\n",
       "<g id=\"edge2\" class=\"edge\">\n",
       "<title>4507749456+&#45;&gt;4507749456</title>\n",
       "<path fill=\"none\" stroke=\"black\" d=\"M603.31,-73.5C610.49,-73.5 618.72,-73.5 627.47,-73.5\"/>\n",
       "<polygon fill=\"black\" stroke=\"black\" points=\"627.29,-77 637.29,-73.5 627.29,-70 627.29,-77\"/>\n",
       "</g>\n",
       "<!-- 4506157264 -->\n",
       "<g id=\"node6\" class=\"node\">\n",
       "<title>4506157264</title>\n",
       "<polygon fill=\"none\" stroke=\"black\" points=\"0,-56.5 0,-92.5 192.75,-92.5 192.75,-56.5 0,-56.5\"/>\n",
       "<text text-anchor=\"middle\" x=\"11.38\" y=\"-69.7\" font-family=\"Times,serif\" font-size=\"14.00\">b</text>\n",
       "<polyline fill=\"none\" stroke=\"black\" points=\"22.75,-57 22.75,-92.5\"/>\n",
       "<text text-anchor=\"middle\" x=\"64.88\" y=\"-69.7\" font-family=\"Times,serif\" font-size=\"14.00\">data &#45;3.0000</text>\n",
       "<polyline fill=\"none\" stroke=\"black\" points=\"107,-57 107,-92.5\"/>\n",
       "<text text-anchor=\"middle\" x=\"149.88\" y=\"-69.7\" font-family=\"Times,serif\" font-size=\"14.00\">grad &#45;4.0000</text>\n",
       "</g>\n",
       "<!-- 4507757328* -->\n",
       "<g id=\"node8\" class=\"node\">\n",
       "<title>4507757328*</title>\n",
       "<ellipse fill=\"none\" stroke=\"black\" cx=\"255.75\" cy=\"-46.5\" rx=\"27\" ry=\"18\"/>\n",
       "<text text-anchor=\"middle\" x=\"255.75\" y=\"-41.45\" font-family=\"Times,serif\" font-size=\"14.00\">*</text>\n",
       "</g>\n",
       "<!-- 4506157264&#45;&gt;4507757328* -->\n",
       "<g id=\"edge5\" class=\"edge\">\n",
       "<title>4506157264&#45;&gt;4507757328*</title>\n",
       "<path fill=\"none\" stroke=\"black\" d=\"M193,-57.49C201.81,-55.92 210.32,-54.41 218.06,-53.03\"/>\n",
       "<polygon fill=\"black\" stroke=\"black\" points=\"218.43,-56.52 227.66,-51.32 217.21,-49.62 218.43,-56.52\"/>\n",
       "</g>\n",
       "<!-- 4507757328 -->\n",
       "<g id=\"node7\" class=\"node\">\n",
       "<title>4507757328</title>\n",
       "<polygon fill=\"none\" stroke=\"black\" points=\"319.88,-28.5 319.88,-64.5 511.88,-64.5 511.88,-28.5 319.88,-28.5\"/>\n",
       "<text text-anchor=\"middle\" x=\"330.88\" y=\"-41.7\" font-family=\"Times,serif\" font-size=\"14.00\">e</text>\n",
       "<polyline fill=\"none\" stroke=\"black\" points=\"341.88,-29 341.88,-64.5\"/>\n",
       "<text text-anchor=\"middle\" x=\"384\" y=\"-41.7\" font-family=\"Times,serif\" font-size=\"14.00\">data &#45;6.0000</text>\n",
       "<polyline fill=\"none\" stroke=\"black\" points=\"426.12,-29 426.12,-64.5\"/>\n",
       "<text text-anchor=\"middle\" x=\"469\" y=\"-41.7\" font-family=\"Times,serif\" font-size=\"14.00\">grad &#45;2.0000</text>\n",
       "</g>\n",
       "<!-- 4507757328&#45;&gt;4507749456+ -->\n",
       "<g id=\"edge4\" class=\"edge\">\n",
       "<title>4507757328&#45;&gt;4507749456+</title>\n",
       "<path fill=\"none\" stroke=\"black\" d=\"M512.05,-62.75C521.28,-64.33 530.2,-65.85 538.29,-67.23\"/>\n",
       "<polygon fill=\"black\" stroke=\"black\" points=\"537.53,-70.65 547.98,-68.89 538.71,-63.75 537.53,-70.65\"/>\n",
       "</g>\n",
       "<!-- 4507757328*&#45;&gt;4507757328 -->\n",
       "<g id=\"edge3\" class=\"edge\">\n",
       "<title>4507757328*&#45;&gt;4507757328</title>\n",
       "<path fill=\"none\" stroke=\"black\" d=\"M283.22,-46.5C290.59,-46.5 299.09,-46.5 308.13,-46.5\"/>\n",
       "<polygon fill=\"black\" stroke=\"black\" points=\"307.89,-50 317.89,-46.5 307.89,-43 307.89,-50\"/>\n",
       "</g>\n",
       "<!-- 4507494224 -->\n",
       "<g id=\"node9\" class=\"node\">\n",
       "<title>4507494224</title>\n",
       "<polygon fill=\"none\" stroke=\"black\" points=\"640.12,-0.5 640.12,-36.5 826.12,-36.5 826.12,-0.5 640.12,-0.5\"/>\n",
       "<text text-anchor=\"middle\" x=\"650.38\" y=\"-13.7\" font-family=\"Times,serif\" font-size=\"14.00\">f</text>\n",
       "<polyline fill=\"none\" stroke=\"black\" points=\"660.62,-1 660.62,-36.5\"/>\n",
       "<text text-anchor=\"middle\" x=\"702.75\" y=\"-13.7\" font-family=\"Times,serif\" font-size=\"14.00\">data &#45;2.0000</text>\n",
       "<polyline fill=\"none\" stroke=\"black\" points=\"744.88,-1 744.88,-36.5\"/>\n",
       "<text text-anchor=\"middle\" x=\"785.5\" y=\"-13.7\" font-family=\"Times,serif\" font-size=\"14.00\">grad 4.0000</text>\n",
       "</g>\n",
       "<!-- 4507494224&#45;&gt;4507491344* -->\n",
       "<g id=\"edge8\" class=\"edge\">\n",
       "<title>4507494224&#45;&gt;4507491344*</title>\n",
       "<path fill=\"none\" stroke=\"black\" d=\"M826.6,-34.6C835.76,-36.19 844.62,-37.73 852.67,-39.13\"/>\n",
       "<polygon fill=\"black\" stroke=\"black\" points=\"851.85,-42.54 862.3,-40.81 853.05,-35.65 851.85,-42.54\"/>\n",
       "</g>\n",
       "<!-- 4507537296 -->\n",
       "<g id=\"node10\" class=\"node\">\n",
       "<title>4507537296</title>\n",
       "<polygon fill=\"none\" stroke=\"black\" points=\"4.88,-1.5 4.88,-37.5 187.88,-37.5 187.88,-1.5 4.88,-1.5\"/>\n",
       "<text text-anchor=\"middle\" x=\"15.88\" y=\"-14.7\" font-family=\"Times,serif\" font-size=\"14.00\">a</text>\n",
       "<polyline fill=\"none\" stroke=\"black\" points=\"26.88,-2 26.88,-37.5\"/>\n",
       "<text text-anchor=\"middle\" x=\"66.75\" y=\"-14.7\" font-family=\"Times,serif\" font-size=\"14.00\">data 2.0000</text>\n",
       "<polyline fill=\"none\" stroke=\"black\" points=\"106.62,-2 106.62,-37.5\"/>\n",
       "<text text-anchor=\"middle\" x=\"147.25\" y=\"-14.7\" font-family=\"Times,serif\" font-size=\"14.00\">grad 6.0000</text>\n",
       "</g>\n",
       "<!-- 4507537296&#45;&gt;4507757328* -->\n",
       "<g id=\"edge7\" class=\"edge\">\n",
       "<title>4507537296&#45;&gt;4507757328*</title>\n",
       "<path fill=\"none\" stroke=\"black\" d=\"M188.01,-35.05C198.46,-36.84 208.62,-38.59 217.74,-40.15\"/>\n",
       "<polygon fill=\"black\" stroke=\"black\" points=\"217.11,-43.59 227.56,-41.84 218.3,-36.69 217.11,-43.59\"/>\n",
       "</g>\n",
       "</g>\n",
       "</svg>\n"
      ],
      "text/plain": [
       "<graphviz.graphs.Digraph at 0x10cab9010>"
      ]
     },
     "execution_count": 32,
     "metadata": {},
     "output_type": "execute_result"
    }
   ],
   "source": [
    "a.grad = -2.0 * -3.0\n",
    "b.grad = -2.0 * 2.0\n",
    "draw_dot(L)"
   ]
  },
  {
   "cell_type": "code",
   "execution_count": 40,
   "metadata": {},
   "outputs": [
    {
     "name": "stdout",
     "output_type": "stream",
     "text": [
      "6.000000000000227\n"
     ]
    }
   ],
   "source": [
    "def test():\n",
    "    \n",
    "    h = 0.001\n",
    "    \n",
    "    a = Value(2.0, label='a')\n",
    "    b = Value(-3.0, label='b')\n",
    "    c = Value(10.0, label='c')\n",
    "    e = a*b; e.label='e'\n",
    "    d = e+c; d.label='d'\n",
    "    f= Value(-2.0, label='f')\n",
    "    L = d*f; L.label='L'\n",
    "    L1 = L.data\n",
    "    \n",
    "    a = Value(2.0 + h, label='a')\n",
    "    b = Value(-3.0, label='b')\n",
    "    c = Value(10.0, label='c')\n",
    "    e = a*b; e.label='e'\n",
    "    d = e+c; d.label='d'\n",
    "    f= Value(-2.0, label='f')\n",
    "    L = d*f; L.label='L'\n",
    "    L2 = L.data\n",
    "    \n",
    "    print((L2-L1)/h)\n",
    "    \n",
    "test()"
   ]
  },
  {
   "cell_type": "markdown",
   "metadata": {},
   "source": [
    "These paramaters are adjusted inorder to reduce L closer to zero(to make it converge at a global minima)"
   ]
  },
  {
   "cell_type": "code",
   "execution_count": null,
   "metadata": {},
   "outputs": [
    {
     "name": "stdout",
     "output_type": "stream",
     "text": [
      "0.9542400000004823\n"
     ]
    }
   ],
   "source": [
    "a.data += 0.1 * a.grad\n",
    "b.data += 0.1 * b.grad\n",
    "c.data += 0.1 * c.grad\n",
    "f.data += 0.1 * f.grad\n",
    "\n",
    "e = a * b\n",
    "d = e + c\n",
    "L = d * f\n",
    "\n",
    "print(L.data)"
   ]
  },
  {
   "cell_type": "code",
   "execution_count": null,
   "metadata": {},
   "outputs": [],
   "source": []
  },
  {
   "cell_type": "code",
   "execution_count": null,
   "metadata": {},
   "outputs": [],
   "source": []
  },
  {
   "cell_type": "code",
   "execution_count": null,
   "metadata": {},
   "outputs": [],
   "source": []
  }
 ],
 "metadata": {
  "kernelspec": {
   "display_name": ".venv",
   "language": "python",
   "name": "python3"
  },
  "language_info": {
   "codemirror_mode": {
    "name": "ipython",
    "version": 3
   },
   "file_extension": ".py",
   "mimetype": "text/x-python",
   "name": "python",
   "nbconvert_exporter": "python",
   "pygments_lexer": "ipython3",
   "version": "3.11.7"
  }
 },
 "nbformat": 4,
 "nbformat_minor": 2
}
